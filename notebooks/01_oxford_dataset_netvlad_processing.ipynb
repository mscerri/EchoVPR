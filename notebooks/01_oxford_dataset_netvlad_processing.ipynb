{
 "cells": [
  {
   "cell_type": "code",
   "execution_count": null,
   "metadata": {},
   "outputs": [],
   "source": [
    "%cd ..\\src"
   ]
  },
  {
   "cell_type": "code",
   "execution_count": null,
   "metadata": {},
   "outputs": [],
   "source": [
    "import torch\n",
    "from torch.utils.data import DataLoader\n",
    "\n",
    "from configs.utils import get_config\n",
    "from echovpr.datasets.oxford_image_ds import OxfordImageDataset\n",
    "from echovpr.datasets.utils import save_np_file, load_np_file\n",
    "from echovpr.models.netvlad_encoder import NetVLADEncorder\n",
    "\n",
    "import matplotlib.pyplot as plt\n",
    "import numpy as np\n",
    "\n",
    "import matplotlib as mpl\n",
    "mpl.rcParams['figure.dpi'] = 300"
   ]
  },
  {
   "cell_type": "code",
   "execution_count": null,
   "metadata": {},
   "outputs": [],
   "source": [
    "config = get_config(\"configs\\\\train_mlp_oxford.ini\", log=False)"
   ]
  },
  {
   "cell_type": "code",
   "execution_count": null,
   "metadata": {},
   "outputs": [],
   "source": [
    "day_ds = load_np_file(config['dataset_oxford_day_dataset_file_path'])\n",
    "night_ds = load_np_file(config['dataset_oxford_night_dataset_file_path'])"
   ]
  },
  {
   "cell_type": "code",
   "execution_count": null,
   "metadata": {},
   "outputs": [],
   "source": [
    "day_dataset = OxfordImageDataset(day_ds['image_names'], config['dataset_root_dir'], config)\n",
    "day_dataLoader = DataLoader(day_dataset, batch_size=int(config['dataset_netvlad_processing_batchsize']), num_workers=int(config['dataset_netvlad_processing_threads']), shuffle=False)\n",
    "\n",
    "night_dataset = OxfordImageDataset(night_ds['image_names'], config['dataset_root_dir'], config)\n",
    "night_dataLoader = DataLoader(night_dataset, batch_size=int(config['dataset_netvlad_processing_batchsize']), num_workers=int(config['dataset_netvlad_processing_threads']), shuffle=False)"
   ]
  },
  {
   "cell_type": "code",
   "execution_count": null,
   "metadata": {},
   "outputs": [],
   "source": [
    "def preview_images(dataset, image_id):\n",
    "    raw_img = dataset.get_image(image_id)\n",
    "    transformed_img = np.transpose(dataset.get_transformed_image(image_id), (1, 2, 0))\n",
    "\n",
    "    plt.figure()\n",
    "    f, axarr = plt.subplots(1,2) \n",
    "    axarr[0].imshow(raw_img)\n",
    "    axarr[1].imshow(transformed_img)\n",
    "    plt.show()"
   ]
  },
  {
   "cell_type": "code",
   "execution_count": null,
   "metadata": {},
   "outputs": [],
   "source": [
    "preview_images(day_dataset, 20)"
   ]
  },
  {
   "cell_type": "code",
   "execution_count": null,
   "metadata": {},
   "outputs": [],
   "source": [
    "preview_images(night_dataset, 1500)"
   ]
  },
  {
   "cell_type": "code",
   "execution_count": null,
   "metadata": {},
   "outputs": [],
   "source": [
    "encoder = NetVLADEncorder(config).eval().cuda()"
   ]
  },
  {
   "cell_type": "code",
   "execution_count": null,
   "metadata": {},
   "outputs": [],
   "source": [
    "def process(model, dataLoader):\n",
    "    x_processed_list = []\n",
    "\n",
    "    for x in dataLoader:\n",
    "        x = x.cuda()\n",
    "        x_processed = model(x)\n",
    "\n",
    "        x_processed_list.append(x_processed.cpu())\n",
    "\n",
    "    return torch.vstack(x_processed_list)"
   ]
  },
  {
   "cell_type": "code",
   "execution_count": null,
   "metadata": {},
   "outputs": [],
   "source": [
    "oxford_day_repr = process(encoder, day_dataLoader).numpy()\n",
    "save_np_file(oxford_day_repr, config['dataset_oxford_day_netvlad_repr_file_path'])"
   ]
  },
  {
   "cell_type": "code",
   "execution_count": null,
   "metadata": {},
   "outputs": [],
   "source": [
    "oxford_night_repr = process(encoder, night_dataLoader).numpy()\n",
    "save_np_file(oxford_night_repr, config['dataset_oxford_night_netvlad_repr_file_path'])"
   ]
  }
 ],
 "metadata": {
  "interpreter": {
   "hash": "1c3ece5540a0c2ffc2d29a240d66f75bd95c704c907bef09022a1d843f0a91ef"
  },
  "kernelspec": {
   "display_name": "Python 3.8.12 64-bit ('patchnetvlad': conda)",
   "language": "python",
   "name": "python3"
  },
  "language_info": {
   "codemirror_mode": {
    "name": "ipython",
    "version": 3
   },
   "file_extension": ".py",
   "mimetype": "text/x-python",
   "name": "python",
   "nbconvert_exporter": "python",
   "pygments_lexer": "ipython3",
   "version": "3.8.12"
  },
  "orig_nbformat": 4
 },
 "nbformat": 4,
 "nbformat_minor": 2
}
