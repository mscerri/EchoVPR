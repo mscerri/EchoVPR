{
 "cells": [
  {
   "cell_type": "code",
   "execution_count": null,
   "metadata": {},
   "outputs": [],
   "source": [
    "%cd ..\\src\n",
    "!python setup.py develop"
   ]
  },
  {
   "cell_type": "code",
   "execution_count": null,
   "metadata": {},
   "outputs": [],
   "source": [
    "import wandb\n",
    "import os\n",
    "import numpy as np\n",
    "from collections import OrderedDict\n",
    "\n",
    "import torch\n",
    "import torch.nn as nn\n",
    "from torch.utils.data import DataLoader\n",
    "\n",
    "from configs.utils import get_config\n",
    "from echovpr.datasets.utils import get_dataset, save_tensor\n"
   ]
  },
  {
   "cell_type": "code",
   "execution_count": null,
   "metadata": {},
   "outputs": [],
   "source": [
    "device = torch.device(\"cuda\") if torch.cuda.is_available() else torch.device(\"cpu\")"
   ]
  },
  {
   "cell_type": "code",
   "execution_count": null,
   "metadata": {},
   "outputs": [],
   "source": [
    "config = get_config(\"configs\\\\train_mlp_nordland_full.ini\")"
   ]
  },
  {
   "cell_type": "code",
   "execution_count": null,
   "metadata": {},
   "outputs": [],
   "source": [
    "run = wandb.init(project=\"echovpr_nordland_hl\")"
   ]
  },
  {
   "cell_type": "code",
   "execution_count": null,
   "metadata": {},
   "outputs": [],
   "source": [
    "def load_model(artifact_name: str, model_name: str) -> str:\n",
    "    model_artifact = run.use_artifact(artifact_name, type='model')\n",
    "    model_dir = model_artifact.download()\n",
    "    return os.path.join(model_dir, model_name)"
   ]
  },
  {
   "cell_type": "code",
   "execution_count": null,
   "metadata": {},
   "outputs": [],
   "source": [
    "model_path = load_model('mscerri/echovpr_nordland_hl/model-qsp4802p:v0', 'model.ckpt')"
   ]
  },
  {
   "cell_type": "code",
   "execution_count": null,
   "metadata": {},
   "outputs": [],
   "source": [
    "# Init MLP and Lightning Modules\n",
    "in_features=int(config['model_in_features'])\n",
    "hidden_features=int(config['model_hidden_features'])\n",
    "out_features=int(config['model_out_features'])\n",
    "\n",
    "model = nn.Sequential(OrderedDict([\n",
    "          ('hl', nn.Linear(in_features=in_features, out_features=hidden_features, bias=True)),\n",
    "          ('out', nn.Linear(in_features=hidden_features, out_features=out_features, bias=True))\n",
    "        ]))\n",
    "\n",
    "pl_model = ClassificationTask.load_from_checkpoint(model_path, map_location={'cuda:0':'cuda:0'}, model=model, config=config)"
   ]
  },
  {
   "cell_type": "code",
   "execution_count": null,
   "metadata": {},
   "outputs": [],
   "source": [
    "pl_model.eval()\n",
    "pl_model.freeze()\n",
    "\n",
    "pl_model = pl_model.cuda()"
   ]
  },
  {
   "cell_type": "code",
   "execution_count": null,
   "metadata": {},
   "outputs": [],
   "source": [
    "def process(model, dataLoader):\n",
    "    x_processed_list = []\n",
    "    y_target_list = []\n",
    "    \n",
    "    for x, y_target in dataLoader:\n",
    "        x = x.cuda()\n",
    "        x_processed = model(x)\n",
    "\n",
    "        x_processed_list.append(x_processed.cpu())\n",
    "        y_target_list.append(y_target)\n",
    "\n",
    "    return (torch.vstack(x_processed_list), torch.vstack(y_target_list))"
   ]
  },
  {
   "cell_type": "code",
   "execution_count": null,
   "metadata": {},
   "outputs": [],
   "source": [
    "# Prepare Datasets\n",
    "\n",
    "summer_dataset = get_dataset(config['dataset_nordland_summer_netvlad_repr_file_path'])\n",
    "print(f\"Summer dataset size: {len(summer_dataset)}\")\n",
    "summer_dataLoader = DataLoader(summer_dataset, num_workers=int(config['dataloader_threads']), batch_size=int(config['train_batchsize']), shuffle=False)\n",
    "\n",
    "winter_dataset = get_dataset(config['dataset_nordland_winter_netvlad_repr_file_path'])\n",
    "print(f\"Winter dataset size: {len(winter_dataset)}\")\n",
    "winter_dataLoader = DataLoader(winter_dataset, num_workers=int(config['dataloader_threads']), batch_size=int(config['train_batchsize']), shuffle=False)\n",
    "\n",
    "spring_dataset = get_dataset(config['dataset_nordland_spring_netvlad_repr_file_path'])\n",
    "print(f\"Spring dataset size: {len(spring_dataset)}\")\n",
    "spring_dataLoader = DataLoader(spring_dataset, num_workers=int(config['dataloader_threads']), batch_size=int(config['train_batchsize']), shuffle=False)\n",
    "\n",
    "fall_dataset = get_dataset(config['dataset_nordland_fall_netvlad_repr_file_path'])\n",
    "print(f\"Fall dataset size: {len(fall_dataset)}\")\n",
    "fall_dataLoader = DataLoader(fall_dataset, num_workers=int(config['dataloader_threads']), batch_size=int(config['train_batchsize']), shuffle=False)"
   ]
  },
  {
   "cell_type": "code",
   "execution_count": null,
   "metadata": {},
   "outputs": [],
   "source": [
    "encoder = model.get_submodule('hl')"
   ]
  },
  {
   "cell_type": "code",
   "execution_count": null,
   "metadata": {},
   "outputs": [],
   "source": [
    "nordland_summer_repr = process(encoder, summer_dataLoader)\n",
    "save_tensor(nordland_summer_repr, config['dataset_nordland_summer_hidden_repr_file_path'])\n",
    "\n",
    "nordland_winter_repr = process(encoder, winter_dataLoader)\n",
    "save_tensor(nordland_winter_repr, config['dataset_nordland_winter_hidden_repr_file_path'])\n",
    "\n",
    "nordland_spring_repr = process(encoder, spring_dataLoader)\n",
    "save_tensor(nordland_spring_repr, config['dataset_nordland_spring_hidden_repr_file_path'])\n",
    "\n",
    "nordland_fall_repr = process(encoder, fall_dataLoader)\n",
    "save_tensor(nordland_fall_repr, config['dataset_nordland_fall_hidden_repr_file_path'])"
   ]
  },
  {
   "cell_type": "code",
   "execution_count": null,
   "metadata": {},
   "outputs": [],
   "source": [
    "wandb.finish()"
   ]
  }
 ],
 "metadata": {
  "interpreter": {
   "hash": "57baa5815c940fdaff4d14510622de9616cae602444507ba5d0b6727c008cbd6"
  },
  "kernelspec": {
   "display_name": "Python 3.7.8 64-bit",
   "language": "python",
   "name": "python3"
  },
  "language_info": {
   "codemirror_mode": {
    "name": "ipython",
    "version": 3
   },
   "file_extension": ".py",
   "mimetype": "text/x-python",
   "name": "python",
   "nbconvert_exporter": "python",
   "pygments_lexer": "ipython3",
   "version": "3.8.12"
  },
  "orig_nbformat": 4
 },
 "nbformat": 4,
 "nbformat_minor": 2
}
