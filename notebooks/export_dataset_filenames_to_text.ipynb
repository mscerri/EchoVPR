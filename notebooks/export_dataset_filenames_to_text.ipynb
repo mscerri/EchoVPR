{
 "cells": [
  {
   "cell_type": "code",
   "execution_count": null,
   "metadata": {},
   "outputs": [],
   "source": [
    "%cd ..\\src"
   ]
  },
  {
   "cell_type": "code",
   "execution_count": null,
   "metadata": {},
   "outputs": [],
   "source": [
    "from configs.utils import get_config\n",
    "from echovpr.datasets.utils import load_np_file\n",
    "import numpy as np\n",
    "\n",
    "import logging\n",
    "log = logging.getLogger(__name__)"
   ]
  },
  {
   "cell_type": "code",
   "execution_count": null,
   "metadata": {},
   "outputs": [],
   "source": [
    "# config = get_config(\"configs\\\\train_mlp_nordland_full.ini\", log=False)\n",
    "\n",
    "# nordland_summer_dataset_info = load_np_file(config['dataset_nordland_summer_dataset_file_path'])\n",
    "# nordland_winter_dataset_info = load_np_file(config['dataset_nordland_winter_dataset_file_path'])\n",
    "# val_test_splits = load_np_file(config['dataset_nordland_winter_val_test_splits_indices_file_path'])"
   ]
  },
  {
   "cell_type": "code",
   "execution_count": null,
   "metadata": {},
   "outputs": [],
   "source": [
    "config = get_config(\"configs\\\\train_esn_oxford.ini\", log)['main']\n",
    "for c in config:\n",
    "    print(f\"{c}:{config[c]}\")"
   ]
  },
  {
   "cell_type": "code",
   "execution_count": null,
   "metadata": {},
   "outputs": [],
   "source": [
    "oxford_day_dataset_info = load_np_file(config['dataset_oxford_day_dataset_file_path'])\n",
    "oxford_night_dataset_info = load_np_file(config['dataset_oxford_night_dataset_file_path'])\n",
    "val_test_splits = load_np_file(config['dataset_oxford_night_val_test_splits_indices_file_path'])"
   ]
  },
  {
   "cell_type": "code",
   "execution_count": null,
   "metadata": {},
   "outputs": [],
   "source": [
    "def export(image_names, file_name):\n",
    "    with open(file_name,\"w\") as file:\n",
    "        for image_name in image_names:\n",
    "            file.writelines(image_name + \"\\n\")"
   ]
  },
  {
   "cell_type": "code",
   "execution_count": null,
   "metadata": {},
   "outputs": [],
   "source": [
    "val_indices = val_test_splits['val_indices']\n",
    "test_indices = val_test_splits['test_indices']"
   ]
  },
  {
   "cell_type": "code",
   "execution_count": null,
   "metadata": {},
   "outputs": [],
   "source": [
    "print(oxford_day_dataset_info['utm'].shape)\n",
    "print(oxford_night_dataset_info['utm'].shape)\n",
    "print(oxford_night_dataset_info['utm'].shape)\n",
    "print(oxford_night_dataset_info['utm'][val_indices].shape)\n",
    "print(oxford_night_dataset_info['utm'][test_indices].shape)\n",
    "print(oxford_night_dataset_info['image_names'].shape)\n",
    "print(oxford_night_dataset_info['image_names'][val_indices].shape)\n",
    "print(oxford_night_dataset_info['image_names'][test_indices].shape)\n",
    "\n",
    "# print(nordland_summer_dataset_info['image_indices'].shape)\n",
    "# print(nordland_winter_dataset_info['image_indices'].shape)\n",
    "# print(nordland_winter_dataset_info['image_indices'][val_indices].shape)\n",
    "# print(nordland_winter_dataset_info['image_indices'][test_indices].shape)\n",
    "# print(nordland_winter_dataset_info['image_names'].shape)\n",
    "# print(nordland_winter_dataset_info['image_names'][val_indices].shape)\n",
    "# print(nordland_winter_dataset_info['image_names'][test_indices].shape)"
   ]
  },
  {
   "cell_type": "code",
   "execution_count": null,
   "metadata": {},
   "outputs": [],
   "source": [
    "export(oxford_day_dataset_info['image_names'], \"dataset_imagenames\\\\oxford_imageNames_day.txt\")\n",
    "export(oxford_night_dataset_info['image_names'], \"dataset_imagenames\\\\oxford_imageNames_night.txt\")\n",
    "export(oxford_night_dataset_info['image_names'][val_indices], \"dataset_imagenames\\\\oxford_imageNames_query_split_2_val.txt\")\n",
    "export(oxford_night_dataset_info['image_names'][test_indices], \"dataset_imagenames\\\\oxford_imageNames_query_split_2_test.txt\")\n",
    "\n",
    "# export(nordland_summer_dataset_info['image_names'], \"dataset_imagenames\\\\nordland_imageNames_summer.txt\")\n",
    "# export(nordland_winter_dataset_info['image_names'], \"dataset_imagenames\\\\nordland_imageNames_winter.txt\")\n",
    "# export(nordland_winter_dataset_info['image_names'][val_indices], \"dataset_imagenames\\\\nordland_imageNames_query_val.txt\")\n",
    "# export(nordland_winter_dataset_info['image_names'][test_indices], \"dataset_imagenames\\\\nordland_imageNames_query_test.txt\")"
   ]
  },
  {
   "cell_type": "code",
   "execution_count": null,
   "metadata": {},
   "outputs": [],
   "source": [
    "def export_ground_truth_patchnetvlad(file_name, utmDb, utmQ, posDistThr):\n",
    "    # utmDb is the Day dataset for example for Oxford\n",
    "    # utmQ is the Night dataset for example for Oxford but wither just validation or test set    \n",
    "    np.savez_compressed(\"dataset_gt_files\\\\\" + file_name, utmQ=utmQ, utmDb=utmDb, posDistThr=np.int64(posDistThr))"
   ]
  },
  {
   "cell_type": "code",
   "execution_count": null,
   "metadata": {},
   "outputs": [],
   "source": [
    "# export for Oxford\n",
    "# export_ground_truth_patchnetvlad(f\"oxford_d-{int(oxford_day_dataset_info['ground_truth_threshold'])}_val.npz\", oxford_day_dataset_info['utm'], oxford_night_dataset_info['utm'][val_indices], oxford_day_dataset_info['ground_truth_threshold'])\n",
    "# export_ground_truth_patchnetvlad(f\"oxford_d-{int(oxford_day_dataset_info['ground_truth_threshold'])}_test.npz\", oxford_day_dataset_info['utm'], oxford_night_dataset_info['utm'][test_indices], oxford_day_dataset_info['ground_truth_threshold'])\n",
    "\n",
    "# export for Oxford - Split 2\n",
    "export_ground_truth_patchnetvlad(f\"oxford_d-{int(oxford_day_dataset_info['ground_truth_threshold'])}_split_2_val.npz\", oxford_day_dataset_info['utm'], oxford_night_dataset_info['utm'][val_indices], oxford_day_dataset_info['ground_truth_threshold'])\n",
    "export_ground_truth_patchnetvlad(f\"oxford_d-{int(oxford_day_dataset_info['ground_truth_threshold'])}_split_2_test.npz\", oxford_day_dataset_info['utm'], oxford_night_dataset_info['utm'][test_indices], oxford_day_dataset_info['ground_truth_threshold'])\n",
    "\n",
    "# export for Nordland\n",
    "# utmDb = np.repeat(np.expand_dims(nordland_summer_dataset_info['image_indices'], 1), 2, axis=1)\n",
    "# utmQ = np.repeat(np.expand_dims(nordland_winter_dataset_info['image_indices'], 1), 2, axis=1)\n",
    "# export_ground_truth_patchnetvlad(f\"nordland_val.npz\", utmDb, utmQ[val_indices], nordland_summer_dataset_info['ground_truth_threshold'])\n",
    "# export_ground_truth_patchnetvlad(f\"nordland_test.npz\", utmDb, utmQ[test_indices], nordland_summer_dataset_info['ground_truth_threshold'])"
   ]
  },
  {
   "cell_type": "code",
   "execution_count": null,
   "metadata": {},
   "outputs": [],
   "source": [
    "import wandb\n",
    "run = wandb.init()\n",
    "artifact = run.use_artifact('uos_ml/echovpr_nordland/esn_iwa409cc:v0', type='model')\n",
    "artifact_dir = artifact.download()\n",
    "artifact_dir"
   ]
  },
  {
   "cell_type": "code",
   "execution_count": null,
   "metadata": {},
   "outputs": [],
   "source": [
    "# np.load(f\"oxford_d-{int(oxford_day_dataset_info['ground_truth_threshold'])}_val.npz\")['posDistThr']"
   ]
  }
 ],
 "metadata": {
  "interpreter": {
   "hash": "1c3ece5540a0c2ffc2d29a240d66f75bd95c704c907bef09022a1d843f0a91ef"
  },
  "kernelspec": {
   "display_name": "Python 3.8.12 64-bit ('patchnetvlad': conda)",
   "language": "python",
   "name": "python3"
  },
  "language_info": {
   "codemirror_mode": {
    "name": "ipython",
    "version": 3
   },
   "file_extension": ".py",
   "mimetype": "text/x-python",
   "name": "python",
   "nbconvert_exporter": "python",
   "pygments_lexer": "ipython3",
   "version": "3.8.12"
  },
  "orig_nbformat": 4
 },
 "nbformat": 4,
 "nbformat_minor": 2
}
