{
 "cells": [
  {
   "cell_type": "code",
   "execution_count": 24,
   "metadata": {},
   "outputs": [
    {
     "name": "stdout",
     "output_type": "stream",
     "text": [
      "c:\\Users\\mscer\\dev\\EchoVPR\\src\n",
      "running develop\n",
      "running egg_info\n",
      "writing echovpr.egg-info\\PKG-INFO\n",
      "writing dependency_links to echovpr.egg-info\\dependency_links.txt\n",
      "writing top-level names to echovpr.egg-info\\top_level.txt\n",
      "reading manifest file 'echovpr.egg-info\\SOURCES.txt'\n",
      "writing manifest file 'echovpr.egg-info\\SOURCES.txt'\n",
      "running build_ext\n",
      "Creating c:\\users\\mscer\\anaconda3\\envs\\patchnetvlad\\lib\\site-packages\\echovpr.egg-link (link to .)\n",
      "echovpr 1.0 is already the active version in easy-install.pth\n",
      "\n",
      "Installed c:\\users\\mscer\\dev\\echovpr\\src\n",
      "Processing dependencies for echovpr==1.0\n",
      "Finished processing dependencies for echovpr==1.0\n"
     ]
    },
    {
     "name": "stderr",
     "output_type": "stream",
     "text": [
      "C:\\Users\\mscer\\anaconda3\\envs\\patchnetvlad\\lib\\site-packages\\setuptools\\command\\easy_install.py:156: EasyInstallDeprecationWarning: easy_install command is deprecated. Use build and pip and other standards-based tools.\n",
      "  warnings.warn(\n",
      "C:\\Users\\mscer\\anaconda3\\envs\\patchnetvlad\\lib\\site-packages\\setuptools\\command\\install.py:34: SetuptoolsDeprecationWarning: setup.py install is deprecated. Use build and pip and other standards-based tools.\n",
      "  warnings.warn(\n"
     ]
    }
   ],
   "source": [
    "%cd ..\\src\n",
    "!python setup.py develop"
   ]
  },
  {
   "cell_type": "code",
   "execution_count": 25,
   "metadata": {},
   "outputs": [],
   "source": [
    "from configs.utils import get_config\n",
    "from echovpr.datasets.utils import load_np_file\n",
    "import numpy as np\n",
    "\n",
    "import logging\n",
    "log = logging.getLogger(__name__)"
   ]
  },
  {
   "cell_type": "code",
   "execution_count": 26,
   "metadata": {},
   "outputs": [],
   "source": [
    "# config = get_config(\"configs\\\\train_mlp_nordland_full.ini\", log=False)\n",
    "\n",
    "# nordland_summer_dataset_info = load_np_file(config['dataset_nordland_summer_dataset_file_path'])\n",
    "# nordland_winter_dataset_info = load_np_file(config['dataset_nordland_winter_dataset_file_path'])\n",
    "# val_test_splits = load_np_file(config['dataset_nordland_winter_val_test_splits_indices_file_path'])"
   ]
  },
  {
   "cell_type": "code",
   "execution_count": 27,
   "metadata": {},
   "outputs": [
    {
     "name": "stdout",
     "output_type": "stream",
     "text": [
      "dataset:oxford\n",
      "dataset_oxford_day_dataset_file_path:./data/oxford_day_dataset_d-20.npz\n",
      "dataset_oxford_night_dataset_file_path:./data/oxford_night_dataset_d-20.npz\n",
      "dataset_oxford_night_val_test_splits_indices_file_path:./data/oxford_night_valtest_splits_2.npz\n",
      "dataset_oxford_day_hidden_repr_file_path:./data/oxford_day_hidden_repr.npy\n",
      "dataset_oxford_night_hidden_repr_file_path:./data/oxford_night_hidden_repr.npy\n",
      "dataloader_threads:1\n",
      "train_batchsize:30\n",
      "train_max_epochs:80\n",
      "train_lr:0.0008\n",
      "train_lr_sparce_divide_by:1000\n",
      "model_in_features:500\n",
      "model_out_features:4599\n",
      "model_esn_num_connections:10\n",
      "model_reservoir_size:6000\n",
      "model_esn_alpha:0.3\n",
      "model_esn_gamma:0.008\n",
      "model_esn_rho:0.99\n",
      "model_sparce_enabled:True\n",
      "model_sparce_quantile:0.30\n",
      "early_stopping_enabled:False\n",
      "early_stopping_patience:10\n",
      "early_stopping_min_delta:0.0001\n"
     ]
    }
   ],
   "source": [
    "config = get_config(\"configs\\\\train_esn_oxford.ini\", log)['main']\n",
    "for c in config:\n",
    "    print(f\"{c}:{config[c]}\")"
   ]
  },
  {
   "cell_type": "code",
   "execution_count": 28,
   "metadata": {},
   "outputs": [],
   "source": [
    "oxford_day_dataset_info = load_np_file(config['dataset_oxford_day_dataset_file_path'])\n",
    "oxford_night_dataset_info = load_np_file(config['dataset_oxford_night_dataset_file_path'])\n",
    "val_test_splits = load_np_file(config['dataset_oxford_night_val_test_splits_indices_file_path'])"
   ]
  },
  {
   "cell_type": "code",
   "execution_count": 29,
   "metadata": {},
   "outputs": [],
   "source": [
    "def export(image_names, file_name):\n",
    "    with open(file_name,\"w\") as file:\n",
    "        for image_name in image_names:\n",
    "            file.writelines(image_name + \"\\n\")"
   ]
  },
  {
   "cell_type": "code",
   "execution_count": 30,
   "metadata": {},
   "outputs": [],
   "source": [
    "val_indices = val_test_splits['val_indices']\n",
    "test_indices = val_test_splits['test_indices']"
   ]
  },
  {
   "cell_type": "code",
   "execution_count": 31,
   "metadata": {},
   "outputs": [
    {
     "name": "stdout",
     "output_type": "stream",
     "text": [
      "(4599, 2)\n",
      "(4550, 2)\n",
      "(4550, 2)\n",
      "(455, 2)\n",
      "(4095, 2)\n",
      "(4550,)\n",
      "(455,)\n",
      "(4095,)\n"
     ]
    }
   ],
   "source": [
    "print(oxford_day_dataset_info['utm'].shape)\n",
    "print(oxford_night_dataset_info['utm'].shape)\n",
    "print(oxford_night_dataset_info['utm'].shape)\n",
    "print(oxford_night_dataset_info['utm'][val_indices].shape)\n",
    "print(oxford_night_dataset_info['utm'][test_indices].shape)\n",
    "print(oxford_night_dataset_info['image_names'].shape)\n",
    "print(oxford_night_dataset_info['image_names'][val_indices].shape)\n",
    "print(oxford_night_dataset_info['image_names'][test_indices].shape)\n",
    "\n",
    "# print(nordland_summer_dataset_info['image_indices'].shape)\n",
    "# print(nordland_winter_dataset_info['image_indices'].shape)\n",
    "# print(nordland_winter_dataset_info['image_indices'][val_indices].shape)\n",
    "# print(nordland_winter_dataset_info['image_indices'][test_indices].shape)\n",
    "# print(nordland_winter_dataset_info['image_names'].shape)\n",
    "# print(nordland_winter_dataset_info['image_names'][val_indices].shape)\n",
    "# print(nordland_winter_dataset_info['image_names'][test_indices].shape)"
   ]
  },
  {
   "cell_type": "code",
   "execution_count": 32,
   "metadata": {},
   "outputs": [],
   "source": [
    "export(oxford_day_dataset_info['image_names'], \"dataset_imagenames\\\\oxford_imageNames_day.txt\")\n",
    "export(oxford_night_dataset_info['image_names'], \"dataset_imagenames\\\\oxford_imageNames_night.txt\")\n",
    "export(oxford_night_dataset_info['image_names'][val_indices], \"dataset_imagenames\\\\oxford_imageNames_query_split_2_val.txt\")\n",
    "export(oxford_night_dataset_info['image_names'][test_indices], \"dataset_imagenames\\\\oxford_imageNames_query_split_2_test.txt\")\n",
    "\n",
    "# export(nordland_summer_dataset_info['image_names'], \"dataset_imagenames\\\\nordland_imageNames_summer.txt\")\n",
    "# export(nordland_winter_dataset_info['image_names'], \"dataset_imagenames\\\\nordland_imageNames_winter.txt\")\n",
    "# export(nordland_winter_dataset_info['image_names'][val_indices], \"dataset_imagenames\\\\nordland_imageNames_query_val.txt\")\n",
    "# export(nordland_winter_dataset_info['image_names'][test_indices], \"dataset_imagenames\\\\nordland_imageNames_query_test.txt\")"
   ]
  },
  {
   "cell_type": "code",
   "execution_count": 33,
   "metadata": {},
   "outputs": [],
   "source": [
    "def export_ground_truth_patchnetvlad(file_name, utmDb, utmQ, posDistThr):\n",
    "    # utmDb is the Day dataset for example for Oxford\n",
    "    # utmQ is the Night dataset for example for Oxford but wither just validation or test set    \n",
    "    np.savez_compressed(\"dataset_gt_files\\\\\" + file_name, utmQ=utmQ, utmDb=utmDb, posDistThr=np.int64(posDistThr))"
   ]
  },
  {
   "cell_type": "code",
   "execution_count": 34,
   "metadata": {},
   "outputs": [],
   "source": [
    "# export for Oxford\n",
    "# export_ground_truth_patchnetvlad(f\"oxford_d-{int(oxford_day_dataset_info['ground_truth_threshold'])}_val.npz\", oxford_day_dataset_info['utm'], oxford_night_dataset_info['utm'][val_indices], oxford_day_dataset_info['ground_truth_threshold'])\n",
    "# export_ground_truth_patchnetvlad(f\"oxford_d-{int(oxford_day_dataset_info['ground_truth_threshold'])}_test.npz\", oxford_day_dataset_info['utm'], oxford_night_dataset_info['utm'][test_indices], oxford_day_dataset_info['ground_truth_threshold'])\n",
    "\n",
    "# export for Oxford - Split 2\n",
    "export_ground_truth_patchnetvlad(f\"oxford_d-{int(oxford_day_dataset_info['ground_truth_threshold'])}_split_2_val.npz\", oxford_day_dataset_info['utm'], oxford_night_dataset_info['utm'][val_indices], oxford_day_dataset_info['ground_truth_threshold'])\n",
    "export_ground_truth_patchnetvlad(f\"oxford_d-{int(oxford_day_dataset_info['ground_truth_threshold'])}_split_2_test.npz\", oxford_day_dataset_info['utm'], oxford_night_dataset_info['utm'][test_indices], oxford_day_dataset_info['ground_truth_threshold'])\n",
    "\n",
    "# export for Nordland\n",
    "# utmDb = np.repeat(np.expand_dims(nordland_summer_dataset_info['image_indices'], 1), 2, axis=1)\n",
    "# utmQ = np.repeat(np.expand_dims(nordland_winter_dataset_info['image_indices'], 1), 2, axis=1)\n",
    "# export_ground_truth_patchnetvlad(f\"nordland_val.npz\", utmDb, utmQ[val_indices], nordland_summer_dataset_info['ground_truth_threshold'])\n",
    "# export_ground_truth_patchnetvlad(f\"nordland_test.npz\", utmDb, utmQ[test_indices], nordland_summer_dataset_info['ground_truth_threshold'])"
   ]
  },
  {
   "cell_type": "code",
   "execution_count": 38,
   "metadata": {},
   "outputs": [
    {
     "data": {
      "text/html": [
       "Finishing last run (ID:36uid12g) before initializing another..."
      ],
      "text/plain": [
       "<IPython.core.display.HTML object>"
      ]
     },
     "metadata": {},
     "output_type": "display_data"
    },
    {
     "data": {
      "text/html": [
       "<br/>Waiting for W&B process to finish, PID 23928... <strong style=\"color:green\">(success).</strong>"
      ],
      "text/plain": [
       "<IPython.core.display.HTML object>"
      ]
     },
     "metadata": {},
     "output_type": "display_data"
    },
    {
     "data": {
      "application/vnd.jupyter.widget-view+json": {
       "model_id": "d5e6f1ef25e54e2e9a9b75d177c7d5f6",
       "version_major": 2,
       "version_minor": 0
      },
      "text/plain": [
       "VBox(children=(Label(value=' 0.00MB of 0.00MB uploaded (0.00MB deduped)\\r'), FloatProgress(value=1.0, max=1.0)…"
      ]
     },
     "metadata": {},
     "output_type": "display_data"
    },
    {
     "data": {
      "text/html": [
       "<style>\n",
       "    table.wandb td:nth-child(1) { padding: 0 10px; text-align: right }\n",
       "    .wandb-row { display: flex; flex-direction: row; flex-wrap: wrap; width: 100% }\n",
       "    .wandb-col { display: flex; flex-direction: column; flex-basis: 100%; flex: 1; padding: 10px; }\n",
       "    </style>\n",
       "<div class=\"wandb-row\"><div class=\"wandb-col\">\n",
       "</div><div class=\"wandb-col\">\n",
       "</div></div>\n",
       "Synced 5 W&B file(s), 0 media file(s), 0 artifact file(s) and 0 other file(s)\n",
       "<br/>Synced <strong style=\"color:#cdcd00\">gentle-sun-20</strong>: <a href=\"https://wandb.ai/mscerri/EchoVPR/runs/36uid12g\" target=\"_blank\">https://wandb.ai/mscerri/EchoVPR/runs/36uid12g</a><br/>\n",
       "Find logs at: <code>.\\wandb\\run-20211130_235411-36uid12g\\logs</code><br/>\n"
      ],
      "text/plain": [
       "<IPython.core.display.HTML object>"
      ]
     },
     "metadata": {},
     "output_type": "display_data"
    },
    {
     "data": {
      "text/html": [
       "Successfully finished last run (ID:36uid12g). Initializing new run:<br/>"
      ],
      "text/plain": [
       "<IPython.core.display.HTML object>"
      ]
     },
     "metadata": {},
     "output_type": "display_data"
    },
    {
     "data": {
      "text/html": [
       "\n",
       "                    Syncing run <strong><a href=\"https://wandb.ai/mscerri/EchoVPR/runs/h02rlx7p\" target=\"_blank\">firm-glade-21</a></strong> to <a href=\"https://wandb.ai/mscerri/EchoVPR\" target=\"_blank\">Weights & Biases</a> (<a href=\"https://docs.wandb.com/integrations/jupyter.html\" target=\"_blank\">docs</a>).<br/>\n",
       "\n",
       "                "
      ],
      "text/plain": [
       "<IPython.core.display.HTML object>"
      ]
     },
     "metadata": {},
     "output_type": "display_data"
    },
    {
     "name": "stderr",
     "output_type": "stream",
     "text": [
      "\u001b[34m\u001b[1mwandb\u001b[0m: Downloading large artifact esn_iwa409cc:v0, 1101.55MB. 2 files... Done. 0:0:0\n"
     ]
    },
    {
     "data": {
      "text/plain": [
       "'.\\\\artifacts\\\\esn_iwa409cc-v0'"
      ]
     },
     "execution_count": 38,
     "metadata": {},
     "output_type": "execute_result"
    }
   ],
   "source": [
    "import wandb\n",
    "run = wandb.init()\n",
    "artifact = run.use_artifact('uos_ml/echovpr_nordland/esn_iwa409cc:v0', type='model')\n",
    "artifact_dir = artifact.download()\n",
    "artifact_dir"
   ]
  },
  {
   "cell_type": "code",
   "execution_count": 35,
   "metadata": {},
   "outputs": [],
   "source": [
    "# np.load(f\"oxford_d-{int(oxford_day_dataset_info['ground_truth_threshold'])}_val.npz\")['posDistThr']"
   ]
  }
 ],
 "metadata": {
  "interpreter": {
   "hash": "1c3ece5540a0c2ffc2d29a240d66f75bd95c704c907bef09022a1d843f0a91ef"
  },
  "kernelspec": {
   "display_name": "Python 3.8.12 64-bit ('patchnetvlad': conda)",
   "language": "python",
   "name": "python3"
  },
  "language_info": {
   "codemirror_mode": {
    "name": "ipython",
    "version": 3
   },
   "file_extension": ".py",
   "mimetype": "text/x-python",
   "name": "python",
   "nbconvert_exporter": "python",
   "pygments_lexer": "ipython3",
   "version": "3.8.12"
  },
  "orig_nbformat": 4
 },
 "nbformat": 4,
 "nbformat_minor": 2
}
