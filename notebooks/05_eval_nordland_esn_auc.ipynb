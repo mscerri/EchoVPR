{
 "cells": [
  {
   "cell_type": "code",
   "execution_count": null,
   "metadata": {},
   "outputs": [],
   "source": [
    "%cd ..\\src"
   ]
  },
  {
   "cell_type": "code",
   "execution_count": null,
   "metadata": {},
   "outputs": [],
   "source": [
    "import argparse\n",
    "import logging\n",
    "import os\n",
    "\n",
    "import torch\n",
    "from torch import nn\n",
    "\n",
    "from configs.utils import (get_bool_from_config, get_config, get_config_wandb,\n",
    "                           get_value_from_namespace,\n",
    "                           get_value_from_namespace_or_raise,\n",
    "                           update_config_wandb)\n",
    "from echovpr.models.single_esn import SingleESN\n",
    "from echovpr.models.sparce_layer import SpaRCe\n",
    "from echovpr.models.utils import get_sparsity\n",
    "from echovpr.trainer.eval import run_eval\n",
    "from echovpr.trainer.metrics.recall import compute_recall\n",
    "from echovpr.trainer.prepare_esn_datasets import prepare_esn_datasets\n",
    "from echovpr.trainer.prepare_final_datasets import (get_dataset_infos,\n",
    "                                                    prepare_final_datasets)\n",
    "from echovpr.trainer.process_patchnetvlad import local_matcher\n",
    "\n",
    "logging.basicConfig(level=logging.INFO)\n",
    "log = logging.getLogger()\n",
    "\n",
    "env_torch_device = os.environ.get(\"TORCH_DEVICE\")\n",
    "if env_torch_device is not None:\n",
    "    device = torch.device(env_torch_device)\n",
    "    log.info(f'Setting device set by environment to {env_torch_device}')\n",
    "else:\n",
    "    device = torch.device(\n",
    "        \"cuda\") if torch.cuda.is_available() else torch.device(\"cpu\")\n",
    "    log.info('Setting default available device')\n",
    "\n",
    "os.environ[\"WANDB_SILENT\"] = \"true\""
   ]
  },
  {
   "cell_type": "code",
   "execution_count": null,
   "metadata": {},
   "outputs": [],
   "source": [
    "def load_model(run, artifact_name: str, model_name: str) -> torch.Tensor:\n",
    "    model_artifact = run.use_artifact(artifact_name, type='model')\n",
    "    model_dir = model_artifact.download()\n",
    "    return torch.load(os.path.join(model_dir, model_name))\n",
    "\n",
    "def load_mode_from_dir(model_dir: str, model_name: str) -> torch.Tensor:\n",
    "    return torch.load(os.path.join(model_dir, model_name))\n",
    "\n",
    "def model_forward(model, x, kwargs):\n",
    "    if kwargs['sparce_enabled']:\n",
    "        x = model[\"sparce\"](x, kwargs['dataset_quantiles'])\n",
    "    \n",
    "    y = model[\"out\"](x)\n",
    "    return y\n",
    "\n",
    "def set_summary_props(run, recall_dic, key_prefix):\n",
    "    for key in recall_dic:\n",
    "        run.summary[f\"{key_prefix}@{key}\"] = recall_dic[key]\n"
   ]
  },
  {
   "cell_type": "code",
   "execution_count": null,
   "metadata": {},
   "outputs": [],
   "source": [
    "config_file ='configs\\\\train_esn_nordland.ini'\n",
    "project = 'echovpr_nordland'\n",
    "entity = 'uos_ml'\n",
    "\n",
    "model_dir = 'pretrained_models\\\\nordland_netvlad_esn'\n",
    "# model_dir = 'pretrained_models\\\\nordland_netvlad_esn_sparse'\n",
    "# model_dir = 'pretrained_models\\\\oxford_netvlad_esn'\n",
    "# model_dir = 'pretrained_models\\\\oxford_netvlad_esn_sparse'"
   ]
  },
  {
   "cell_type": "code",
   "execution_count": null,
   "metadata": {},
   "outputs": [],
   "source": [
    "#  Setup config\n",
    "run, config = get_config_wandb(config_file, project=project, entity=entity, logger=log, log=False)\n",
    "\n",
    "# Setup ESN\n",
    "in_features=int(config['model_in_features'])\n",
    "reservoir_size=int(config['model_reservoir_size'])\n",
    "out_features=int(config['model_out_features'])\n",
    "\n",
    "esn_alpha = float(config['model_esn_alpha'])\n",
    "esn_gamma = float(config['model_esn_gamma'])\n",
    "esn_rho = float(config['model_esn_rho'])\n",
    "esn_num_connections = int(config['model_esn_num_connections'])\n",
    "sparce_enabled = get_bool_from_config(config, 'model_sparce_enabled')\n",
    "\n",
    "model_esn = SingleESN(\n",
    "    in_features, \n",
    "    reservoir_size, \n",
    "    alpha=esn_alpha, \n",
    "    gamma=esn_gamma, \n",
    "    rho=esn_rho,\n",
    "    sparsity=get_sparsity(esn_num_connections, reservoir_size),\n",
    "    device=device\n",
    ")\n",
    "\n",
    "esn_model_tensor = load_mode_from_dir(model_dir, 'esn_model.pt')\n",
    "model_esn.load_state_dict(esn_model_tensor)\n",
    "\n",
    "model = nn.ModuleDict()\n",
    "\n",
    "if sparce_enabled:\n",
    "    model[\"sparce\"] = SpaRCe(reservoir_size)\n",
    "\n",
    "model[\"out\"] = nn.Linear(in_features=reservoir_size, out_features=out_features, bias=True)\n",
    "\n",
    "model_tensor = load_mode_from_dir(model_dir, 'model.pt')\n",
    "model.load_state_dict(model_tensor, strict=False)\n",
    "\n",
    "# Move to device\n",
    "model_esn.eval().to(device)\n",
    "model.eval().to(device)\n",
    "\n",
    "# Load datasets, normalize and process through ESN\n",
    "\n",
    "esn_descriptors = prepare_esn_datasets(model_esn, config, device, log, eval_only=True)\n",
    "\n",
    "del model_esn\n",
    "\n",
    "torch.cuda.empty_cache()\n",
    "\n",
    "_, _, val_dataset, val_dataLoader, test_dataLoader, _, eval_gt = prepare_final_datasets(esn_descriptors, config, eval_only=True)\n",
    "\n",
    "val_dataset_quantiles = None\n",
    "if sparce_enabled:\n",
    "    # Calculate Training Dataset Quantiles\n",
    "    quantile = float(config['model_sparce_quantile'])\n",
    "    val_dataset_quantiles = torch.quantile(torch.abs(torch.vstack([t[0] for t in val_dataset])), quantile, dim=0).to(device)\n"
   ]
  },
  {
   "cell_type": "code",
   "execution_count": null,
   "metadata": {},
   "outputs": [],
   "source": [
    "n_values = [1, 5, 10, 20, 50, 100]\n",
    "top_k = 27592\n",
    "\n",
    "# if options.validation:\n",
    "#     _, val_predictions = run_eval(model, val_dataLoader, eval_gt, n_values, top_k, device, model_forward=model_forward, sparce_enabled=sparce_enabled, dataset_quantiles=val_dataset_quantiles)\n",
    "#     val_recalls = compute_recall(eval_gt, val_predictions, len(val_predictions), n_values, print_recall=True, recall_str='Eval on Validation Set')\n",
    "#     set_summary_props(run, val_recalls, 'best_val_recall')\n",
    "\n",
    "_, test_predictions = run_eval(model, test_dataLoader, eval_gt, n_values, top_k, device, model_forward=model_forward, sparce_enabled=sparce_enabled, dataset_quantiles=val_dataset_quantiles)\n",
    "# test_recalls = compute_recall(eval_gt, test_predictions, len(test_predictions), n_values, print_recall=True, recall_str='Eval on Test Set')\n",
    "# set_summary_props(run, test_recalls, 'best_test_recall')\n",
    "\n",
    "# if 'patchnetvlad_config_file' in options:\n",
    "#     patchnetvlad_config = get_config(options.patchnetvlad_config_file, log)\n",
    "#     train_dataset_info, val_test_dataset_info = get_dataset_infos(config)\n",
    "\n",
    "#     input_index_local_features_prefix = os.path.join(get_value_from_namespace_or_raise(options, 'index_input_features_dir'), 'patchfeats')\n",
    "\n",
    "#     if options.validation:\n",
    "#         input_val_local_features_prefix = os.path.join(get_value_from_namespace_or_raise(options, 'val_input_features_dir'), 'patchfeats')\n",
    "        \n",
    "#         reranked_val_predictions = local_matcher(val_predictions, patchnetvlad_config, input_val_local_features_prefix, input_index_local_features_prefix, val_test_dataset_info, train_dataset_info, device)\n",
    "#         val_patch_recalls = compute_recall(eval_gt, reranked_val_predictions, len(val_predictions), n_values, print_recall=True, recall_str='PatchNetVLAD Eval on Validation Set')\n",
    "#         set_summary_props(run, val_patch_recalls, 'best_val_patch_recall')    \n",
    "\n",
    "#     input_test_local_features_prefix = os.path.join(get_value_from_namespace_or_raise(options, 'test_input_features_dir'), 'patchfeats')\n",
    "\n",
    "#     reranked_test_predictions = local_matcher(test_predictions, patchnetvlad_config, input_test_local_features_prefix, input_index_local_features_prefix, val_test_dataset_info, train_dataset_info, device)\n",
    "#     test_patch_recalls = compute_recall(eval_gt, reranked_test_predictions, len(test_predictions), n_values, print_recall=True, recall_str='PatchNetVLAD Eval on Test Set')\n",
    "#     set_summary_props(run, test_patch_recalls, 'best_test_patch_recall')"
   ]
  },
  {
   "cell_type": "code",
   "execution_count": null,
   "metadata": {},
   "outputs": [],
   "source": [
    "import numpy as np\n",
    "import scipy\n",
    "from sklearn.metrics import precision_recall_curve, auc"
   ]
  },
  {
   "cell_type": "code",
   "execution_count": null,
   "metadata": {},
   "outputs": [],
   "source": [
    "testy = []\n",
    "lr_probs = []\n",
    "len_probs = len(test_predictions)\n",
    "\n",
    "for qIx, pred in test_predictions:\n",
    "    sm = scipy.special.softmax(pred, axis=None)\n",
    "    # print(f\"ID: {qIx}, Pred: {np.argmax(pred)}, GT: {np.any(np.in1d([np.argmax(pred)], eval_gt[qIx]))}, Raw: {pred[np.argmax(pred)]}, Prod: {sm[np.argmax(sm)]}\")\n",
    "    # lr_probs.append(pred[np.argmax(pred)])\n",
    "    \n",
    "    lr_probs.append(sm[np.argmax(sm)])\n",
    "    testy.append(np.any(np.in1d([np.argmax(pred)], eval_gt[qIx])))\n",
    "\n",
    "lr_probs = np.stack(lr_probs)\n",
    "testy = np.stack(testy)"
   ]
  },
  {
   "cell_type": "code",
   "execution_count": null,
   "metadata": {},
   "outputs": [],
   "source": [
    "lr_precision, lr_recall, _ = precision_recall_curve(testy, lr_probs)\n",
    "AUC  = auc(lr_recall, lr_precision)"
   ]
  },
  {
   "cell_type": "code",
   "execution_count": null,
   "metadata": {},
   "outputs": [],
   "source": [
    "AUC"
   ]
  },
  {
   "cell_type": "code",
   "execution_count": null,
   "metadata": {},
   "outputs": [],
   "source": [
    "from sklearn.metrics import PrecisionRecallDisplay\n",
    "import matplotlib as mpl\n",
    "mpl.rcParams['figure.dpi'] = 200\n",
    "display = PrecisionRecallDisplay.from_predictions(testy, lr_probs, name=\"EchoVPR nordland\")\n",
    "_ = display.ax_.set_title(\"2-class Precision-Recall curve\")"
   ]
  }
 ],
 "metadata": {
  "interpreter": {
   "hash": "57baa5815c940fdaff4d14510622de9616cae602444507ba5d0b6727c008cbd6"
  },
  "kernelspec": {
   "display_name": "Python 3.7.8 64-bit",
   "language": "python",
   "name": "python3"
  },
  "language_info": {
   "codemirror_mode": {
    "name": "ipython",
    "version": 3
   },
   "file_extension": ".py",
   "mimetype": "text/x-python",
   "name": "python",
   "nbconvert_exporter": "python",
   "pygments_lexer": "ipython3",
   "version": "3.8.12"
  },
  "orig_nbformat": 4
 },
 "nbformat": 4,
 "nbformat_minor": 2
}
