{
 "cells": [
  {
   "cell_type": "code",
   "execution_count": null,
   "metadata": {},
   "outputs": [],
   "source": [
    "%cd ..\\src"
   ]
  },
  {
   "cell_type": "code",
   "execution_count": null,
   "metadata": {},
   "outputs": [],
   "source": [
    "import time"
   ]
  },
  {
   "cell_type": "code",
   "execution_count": null,
   "metadata": {},
   "outputs": [],
   "source": [
    "import torch\n",
    "from torch.utils.data import DataLoader\n",
    "import numpy as np\n",
    "\n",
    "from configs.utils import get_config\n",
    "from echovpr.datasets.utils import load_np_file\n",
    "from echovpr.models.single_esn import SingleESN\n",
    "from echovpr.models.utils import get_sparsity\n",
    "\n",
    "import logging\n",
    "\n",
    "logging.basicConfig(level=logging.INFO)\n",
    "log = logging.getLogger()\n"
   ]
  },
  {
   "cell_type": "code",
   "execution_count": null,
   "metadata": {},
   "outputs": [],
   "source": [
    "config = get_config(\"configs\\\\train_esn_nordland.ini\", log)['main']"
   ]
  },
  {
   "cell_type": "code",
   "execution_count": null,
   "metadata": {},
   "outputs": [],
   "source": [
    "device = torch.device(\"cuda\") if torch.cuda.is_available() else torch.device(\"cpu\")"
   ]
  },
  {
   "cell_type": "code",
   "execution_count": null,
   "metadata": {},
   "outputs": [],
   "source": [
    "in_features=int(config['model_in_features'])\n",
    "reservoir_size=int(config['model_reservoir_size'])\n",
    "out_features=int(config['model_out_features'])\n",
    "\n",
    "esn_alpha = float(config['model_esn_alpha'])\n",
    "esn_gamma = float(config['model_esn_gamma'])\n",
    "esn_rho = float(config['model_esn_rho'])\n",
    "esn_num_connections = int(config['model_esn_num_connections'])\n",
    "\n",
    "encoder = SingleESN(\n",
    "    in_features, \n",
    "    reservoir_size, \n",
    "    alpha=esn_alpha, \n",
    "    gamma=esn_gamma, \n",
    "    rho=esn_rho,\n",
    "    sparsity=get_sparsity(esn_num_connections, reservoir_size),\n",
    "    device=device\n",
    ")\n",
    "\n",
    "encoder.eval().to(device)"
   ]
  },
  {
   "cell_type": "code",
   "execution_count": null,
   "metadata": {},
   "outputs": [],
   "source": [
    "summer_hidden_repr = torch.from_numpy(load_np_file(config['dataset_nordland_summer_hidden_repr_file_path']))\n",
    "max_n = summer_hidden_repr.max()\n",
    "_ = summer_hidden_repr.divide_(max_n)\n",
    "\n",
    "dataset = summer_hidden_repr"
   ]
  },
  {
   "cell_type": "code",
   "execution_count": null,
   "metadata": {},
   "outputs": [],
   "source": [
    "batchsize = int(config['train_batchsize'])\n",
    "dataLoader_threads = int(config['dataloader_threads'])\n",
    "\n",
    "dataLoader = DataLoader(dataset, num_workers=dataLoader_threads, batch_size=batchsize, shuffle=False)"
   ]
  },
  {
   "cell_type": "code",
   "execution_count": null,
   "metadata": {},
   "outputs": [],
   "source": [
    "with torch.no_grad():\n",
    "\n",
    "    batch_timings = []\n",
    "    # hidden_state = encoder.hiddenStates\n",
    "\n",
    "    for x in dataLoader:\n",
    "        x = x.to(device)\n",
    "        \n",
    "        start = time.perf_counter()\n",
    "\n",
    "        _ = encoder(x)\n",
    "\n",
    "        # for xb in x:\n",
    "        #     hidden_state, _ = encoder.leakyIF(hidden_state, xb.flatten())\n",
    "\n",
    "        stop = time.perf_counter()\n",
    "\n",
    "        batch_timings.append(stop - start)"
   ]
  },
  {
   "cell_type": "code",
   "execution_count": null,
   "metadata": {},
   "outputs": [],
   "source": [
    "# stop - start / len(dataset)"
   ]
  },
  {
   "cell_type": "code",
   "execution_count": null,
   "metadata": {},
   "outputs": [],
   "source": [
    "# stop - start / len(dataset)"
   ]
  },
  {
   "cell_type": "code",
   "execution_count": null,
   "metadata": {},
   "outputs": [],
   "source": [
    "(np.sum(batch_timings, dtype=np.float64) / len(dataset)) * 1000"
   ]
  },
  {
   "cell_type": "code",
   "execution_count": null,
   "metadata": {},
   "outputs": [],
   "source": [
    "# 0.8998490395766889 * 27592"
   ]
  },
  {
   "cell_type": "code",
   "execution_count": null,
   "metadata": {},
   "outputs": [],
   "source": [
    "W_sparse = encoder.W.to_sparse().cpu()\n",
    "W_sparse"
   ]
  },
  {
   "cell_type": "code",
   "execution_count": null,
   "metadata": {},
   "outputs": [],
   "source": [
    "W_sparse.values().shape"
   ]
  },
  {
   "cell_type": "code",
   "execution_count": null,
   "metadata": {},
   "outputs": [],
   "source": [
    "(160000 / (8000 * 8000)) * 100"
   ]
  },
  {
   "cell_type": "code",
   "execution_count": null,
   "metadata": {},
   "outputs": [],
   "source": [
    "Win = torch.randn((8000,500)).cpu()"
   ]
  },
  {
   "cell_type": "code",
   "execution_count": null,
   "metadata": {},
   "outputs": [],
   "source": [
    "import time"
   ]
  },
  {
   "cell_type": "code",
   "execution_count": null,
   "metadata": {},
   "outputs": [],
   "source": [
    "start = time.perf_counter_ns()\n",
    "_ = torch.sparse.mm(W_sparse, Win)\n",
    "stop = time.perf_counter_ns()\n",
    "stop - start"
   ]
  },
  {
   "cell_type": "code",
   "execution_count": null,
   "metadata": {},
   "outputs": [],
   "source": [
    "W_cpu = encoder.W.cpu()"
   ]
  },
  {
   "cell_type": "code",
   "execution_count": null,
   "metadata": {},
   "outputs": [],
   "source": [
    "start = time.perf_counter_ns()\n",
    "_ = torch.mm(W_cpu, Win)\n",
    "stop = time.perf_counter_ns()\n",
    "stop - start"
   ]
  },
  {
   "cell_type": "code",
   "execution_count": null,
   "metadata": {},
   "outputs": [],
   "source": [
    "235455300 - 72910700"
   ]
  },
  {
   "cell_type": "code",
   "execution_count": null,
   "metadata": {},
   "outputs": [],
   "source": [
    "162544600 / 235455300"
   ]
  },
  {
   "cell_type": "code",
   "execution_count": null,
   "metadata": {},
   "outputs": [],
   "source": [
    "# 1 - 690367704523.9889\n",
    "# 2 - 910950134767.0991\n",
    "# 3 - 66434.13380690056\n",
    "# 4 - 913526.5837924036\n",
    "# 5 - 893609.2381849812\n",
    "\n",
    "# 0.880147912438388 (direct)\n",
    "# 0.9139255327631198\n",
    "# 0.8998490395766889"
   ]
  },
  {
   "cell_type": "code",
   "execution_count": null,
   "metadata": {},
   "outputs": [],
   "source": [
    "# 0.9043767903740253 ms per image "
   ]
  }
 ],
 "metadata": {
  "interpreter": {
   "hash": "57baa5815c940fdaff4d14510622de9616cae602444507ba5d0b6727c008cbd6"
  },
  "kernelspec": {
   "display_name": "Python 3.7.8 64-bit",
   "language": "python",
   "name": "python3"
  },
  "language_info": {
   "codemirror_mode": {
    "name": "ipython",
    "version": 3
   },
   "file_extension": ".py",
   "mimetype": "text/x-python",
   "name": "python",
   "nbconvert_exporter": "python",
   "pygments_lexer": "ipython3",
   "version": "3.8.12"
  },
  "orig_nbformat": 4
 },
 "nbformat": 4,
 "nbformat_minor": 2
}
