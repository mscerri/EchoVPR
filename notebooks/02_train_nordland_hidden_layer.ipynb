{
 "cells": [
  {
   "cell_type": "code",
   "execution_count": null,
   "metadata": {},
   "outputs": [],
   "source": [
    "%cd ..\\src\n",
    "!python setup.py develop"
   ]
  },
  {
   "cell_type": "code",
   "execution_count": null,
   "metadata": {},
   "outputs": [],
   "source": [
    "from collections import OrderedDict\n",
    "\n",
    "import torch.nn as nn\n",
    "from torch.utils.data import DataLoader\n",
    "\n",
    "from echovpr.configs.utils import get_config, get_int_from_config, get_bool_from_config\n",
    "from echovpr.trainer.classification_task import ClassificationTask\n",
    "from echovpr.datasets.utils import get_dataset\n",
    "\n",
    "import pytorch_lightning as pl\n",
    "from pytorch_lightning.loggers import WandbLogger\n",
    "from pytorch_lightning.callbacks import ModelCheckpoint, EarlyStopping\n",
    "\n",
    "import wandb\n",
    "import os\n",
    "import logging"
   ]
  },
  {
   "cell_type": "code",
   "execution_count": null,
   "metadata": {},
   "outputs": [],
   "source": [
    "os.environ[\"WANDB_NOTEBOOK_NAME\"] = \"notebooks/train_nordland_hidden_layer.ipynb\"\n",
    "wandb.login()\n",
    "\n",
    "wandb_logger = WandbLogger(project=\"echovpr_nordland_hl\", log_model=True)\n",
    "\n",
    "logging.basicConfig(level=logging.INFO)"
   ]
  },
  {
   "cell_type": "code",
   "execution_count": null,
   "metadata": {},
   "outputs": [],
   "source": [
    "config = get_config(\"configs\\\\train_mlp_nordland_full.ini\")"
   ]
  },
  {
   "cell_type": "code",
   "execution_count": null,
   "metadata": {},
   "outputs": [],
   "source": [
    "# Init MLP and Lightning Modules\n",
    "in_features=int(config['model_in_features'])\n",
    "hidden_features=int(config['model_hidden_features'])\n",
    "out_features=int(config['model_out_features'])\n",
    "\n",
    "layers = []\n",
    "\n",
    "if hidden_features > 0:\n",
    "  layers.append(('hl', nn.Linear(in_features=in_features, out_features=hidden_features, bias=True)))\n",
    "  out_layer_in_features = hidden_features\n",
    "else:\n",
    "  out_layer_in_features = in_features\n",
    "\n",
    "layers.append(('out', nn.Linear(in_features=out_layer_in_features, out_features=out_features, bias=True)))\n",
    "\n",
    "model = nn.Sequential(OrderedDict(layers))\n",
    "\n",
    "pl_model = ClassificationTask(model, config)\n",
    "\n",
    "# Watch Model\n",
    "wandb_logger.watch(pl_model, log=\"all\", log_graph=True)"
   ]
  },
  {
   "cell_type": "code",
   "execution_count": null,
   "metadata": {},
   "outputs": [],
   "source": [
    "# Prepare Datasets\n",
    "\n",
    "train_dataset = get_dataset(config['dataset_nordland_summer_netvlad_repr_file_path'])\n",
    "print(f\"Train dataset size: {len(train_dataset)}\")\n",
    "train_dataLoader = DataLoader(train_dataset, num_workers=int(config['dataloader_threads']), batch_size=int(config['train_batchsize']), shuffle=True)\n",
    "\n",
    "val_dataset = get_dataset(config['dataset_nordland_winter_netvlad_repr_file_path'], config['dataset_nordland_winter_val_limit_indices_file_path'])\n",
    "print(f\"Validation dataset size: {len(val_dataset)}\")\n",
    "val_dataLoader = DataLoader(val_dataset, num_workers=int(config['dataloader_threads']), batch_size=int(config['train_batchsize']), shuffle=False)\n",
    "\n",
    "test_dataset = get_dataset(config['dataset_nordland_winter_netvlad_repr_file_path'], config['dataset_nordland_winter_test_limit_indices_file_path'])\n",
    "print(f\"Test dataset size: {len(test_dataset)}\")\n",
    "test_dataLoader = DataLoader(test_dataset, num_workers=int(config['dataloader_threads']), batch_size=int(config['train_batchsize']), shuffle=False)"
   ]
  },
  {
   "cell_type": "code",
   "execution_count": null,
   "metadata": {},
   "outputs": [],
   "source": [
    "# Create PL Trainer\n",
    "\n",
    "callbacks = []\n",
    "\n",
    "checkpoint_callback = ModelCheckpoint(\n",
    "    monitor=\"val_recall@1\", \n",
    "    mode=\"max\",\n",
    "    auto_insert_metric_name=True,\n",
    "    filename='checkpoint_{epoch:02d}-{val_recall@1:.4f}',\n",
    ")\n",
    "callbacks.append(checkpoint_callback)\n",
    "\n",
    "if get_bool_from_config(config, 'early_stopping_enabled'):\n",
    "    patience = int(config['early_stopping_patience'])\n",
    "    min_delta = float(config['early_stopping_min_delta'])\n",
    "    \n",
    "    early_stopping = EarlyStopping(\n",
    "        monitor='val_recall@1',\n",
    "        mode='max',\n",
    "        patience=patience,\n",
    "        min_delta=min_delta,\n",
    "        check_on_train_epoch_end=False,\n",
    "    )\n",
    "    callbacks.append(early_stopping)\n",
    "\n",
    "trainer = pl.Trainer(\n",
    "    gpus=1, \n",
    "    max_epochs=get_int_from_config(config, 'train_max_epochs', None), \n",
    "    min_epochs=get_int_from_config(config, 'train_min_epochs', None),\n",
    "    max_steps=get_int_from_config(config, 'train_max_steps', -1),\n",
    "    min_steps=get_int_from_config(config, 'train_min_steps', None),\n",
    "    logger=wandb_logger, \n",
    "    callbacks=callbacks,\n",
    ")"
   ]
  },
  {
   "cell_type": "code",
   "execution_count": null,
   "metadata": {},
   "outputs": [],
   "source": [
    "trainer.fit(pl_model, train_dataLoader, val_dataLoader)"
   ]
  },
  {
   "cell_type": "code",
   "execution_count": null,
   "metadata": {},
   "outputs": [],
   "source": [
    "# trainer.save_checkpoint(\"../checkpoint/nordland_pittsburgh_WPCA4096_mlp_01.ckpt\")"
   ]
  },
  {
   "cell_type": "code",
   "execution_count": null,
   "metadata": {},
   "outputs": [],
   "source": [
    "# trainer.test(pl_model, test_dataLoader, ckpt_path=\"../checkpoint/nordland_pittsburgh_WPCA4096_mlp_01.ckpt\")\n",
    "trainer.test(pl_model, test_dataLoader)"
   ]
  },
  {
   "cell_type": "code",
   "execution_count": null,
   "metadata": {},
   "outputs": [],
   "source": [
    "wandb.finish()"
   ]
  },
  {
   "cell_type": "code",
   "execution_count": null,
   "metadata": {},
   "outputs": [],
   "source": []
  }
 ],
 "metadata": {
  "interpreter": {
   "hash": "57baa5815c940fdaff4d14510622de9616cae602444507ba5d0b6727c008cbd6"
  },
  "kernelspec": {
   "display_name": "Python 3.7.8 64-bit",
   "language": "python",
   "name": "python3"
  },
  "language_info": {
   "codemirror_mode": {
    "name": "ipython",
    "version": 3
   },
   "file_extension": ".py",
   "mimetype": "text/x-python",
   "name": "python",
   "nbconvert_exporter": "python",
   "pygments_lexer": "ipython3",
   "version": "3.8.12"
  },
  "orig_nbformat": 4
 },
 "nbformat": 4,
 "nbformat_minor": 2
}
