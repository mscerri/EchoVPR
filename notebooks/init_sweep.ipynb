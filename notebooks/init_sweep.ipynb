{
 "cells": [
  {
   "cell_type": "code",
   "execution_count": null,
   "metadata": {},
   "outputs": [],
   "source": [
    "import wandb\n",
    "import numpy as np"
   ]
  },
  {
   "cell_type": "code",
   "execution_count": null,
   "metadata": {},
   "outputs": [],
   "source": [
    "sweep_config = {\n",
    "    \"program\": \"train_esn.py\",\n",
    "    \"command\":[\n",
    "        \"${env}\",\n",
    "        \"${interpreter}\",\n",
    "        \"${program}\",\n",
    "        \"--config_file\",\n",
    "        \"configs\\\\train_esn_nordland.ini\",\n",
    "        \"${args}\"\n",
    "    ],\n",
    "    \"name\": \"nordland_sparce_sweep\",\n",
    "    \"description\": \"EchoVPR sweep for sparce threshold and learning rate\",\n",
    "    \"method\": \"grid\",\n",
    "    \"metric\": {\n",
    "        \"name\": \"best_val_recall@1\",\n",
    "        \"goal\": \"maximize\"\n",
    "    },\n",
    "    \"parameters\": {\n",
    "        \"train_batchsize\": {\n",
    "            \"value\": 200\n",
    "        },\n",
    "        \"train_max_epochs\": {\n",
    "            \"value\": 70\n",
    "        },\n",
    "        # \"model_reservoir_size\":{\n",
    "        #     # \"values\": [5500, 6000, 6500, 7000, 7500, 8000, 8500, 9000, 9500, 10000]\n",
    "        #     \"value\": 6000\n",
    "        # },\n",
    "        # \"model_esn_num_connections\":{\n",
    "        #     # \"values\": [10,15,20]\n",
    "        #     \"value\": 10\n",
    "        # },\n",
    "        # \"model_esn_gamma\": {\n",
    "        #     # \"values\": [0.001, 0.003, 0.005, 0.008, 0.01, 0.03, 0.05, 0.08, 0.1],\n",
    "        #     \"value\": 0.008\n",
    "        # },\n",
    "        # \"model_esn_alpha\":{\n",
    "        #     # \"values\": [0.1,0.2,0.3,0.4,0.5,0.6,0.7,0.8,0.9,1.0]\n",
    "        #     \"value\": 0.3\n",
    "        # },\n",
    "        \"train_lr\": {\n",
    "            \"values\": [0.0001]\n",
    "            # \"value\": 0.0005\n",
    "        },\n",
    "        \"train_lr_sparce_divide_by\": {\n",
    "            \"values\": [1000,100]\n",
    "        },\n",
    "        \"model_sparce_enabled\": {\n",
    "            \"value\": \"True\"\n",
    "        },\n",
    "        \"model_sparce_quantile\": {\n",
    "            \"values\": [0.0,0.1,0.2,0.3]\n",
    "            # \"value\": 0.7\n",
    "        },\n",
    "        # \"dataset_oxford_night_val_test_splits_indices_file_path\":{\n",
    "        #     \"values\": [\"./data/oxford_night_valtest_splits.npz\",\"./data/oxford_night_valtest_splits_2.npz\", \"./data/oxford_night_valtest_splits_3.npz\"]\n",
    "        # },\n",
    "        \"repeat\": {\n",
    "            \"values\": list(range(1,2))\n",
    "        }\n",
    "    }\n",
    "}"
   ]
  },
  {
   "cell_type": "code",
   "execution_count": null,
   "metadata": {},
   "outputs": [],
   "source": [
    "sweep_id = wandb.sweep(sweep_config, project=\"echovpr_nordland\", entity=\"uos_ml\")\n",
    "print(f'Configures sweep: {sweep_id}')\n"
   ]
  }
 ],
 "metadata": {
  "interpreter": {
   "hash": "1c3ece5540a0c2ffc2d29a240d66f75bd95c704c907bef09022a1d843f0a91ef"
  },
  "kernelspec": {
   "display_name": "Python 3.8.12 64-bit ('patchnetvlad': conda)",
   "language": "python",
   "name": "python3"
  },
  "language_info": {
   "codemirror_mode": {
    "name": "ipython",
    "version": 3
   },
   "file_extension": ".py",
   "mimetype": "text/x-python",
   "name": "python",
   "nbconvert_exporter": "python",
   "pygments_lexer": "ipython3",
   "version": "3.8.12"
  },
  "orig_nbformat": 4
 },
 "nbformat": 4,
 "nbformat_minor": 2
}
