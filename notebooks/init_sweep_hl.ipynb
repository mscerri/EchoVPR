{
 "cells": [
  {
   "cell_type": "code",
   "execution_count": 18,
   "metadata": {},
   "outputs": [],
   "source": [
    "import wandb"
   ]
  },
  {
   "cell_type": "code",
   "execution_count": 19,
   "metadata": {},
   "outputs": [],
   "source": [
    "lr_range = [0.01, 0.005, 0.001, 0.0005, 0.0001]\n",
    "\n",
    "sweep_config = {\n",
    "    \"program\": \"train_mlp.py\",\n",
    "    \"command\":[\n",
    "        \"${env}\",\n",
    "        \"${interpreter}\",\n",
    "        \"${program}\",\n",
    "        \"--config_file\",\n",
    "        \"configs\\\\train_mlp_oxford.ini\",\n",
    "        \"${args}\"\n",
    "    ],\n",
    "    \"name\": \"oxford_mlp_lr_sweep\",\n",
    "    \"description\": \"Sweep grid search for best learning rate\",\n",
    "    \"method\": \"grid\",\n",
    "    \"metric\": {\n",
    "        \"name\": \"best_val_recall@1\",\n",
    "        \"goal\": \"maximize\"\n",
    "    },\n",
    "    \"parameters\": {\n",
    "        \"train_batchsize\": {\n",
    "            \"value\": 20\n",
    "        },\n",
    "        \"train_max_epochs\": {\n",
    "            \"value\": 100\n",
    "        },\n",
    "        \"train_lr\": {\n",
    "            \"values\": lr_range\n",
    "        },\n",
    "        \"repeat\": {\n",
    "            \"values\": list(range(1,4))\n",
    "        }\n",
    "    }\n",
    "}"
   ]
  },
  {
   "cell_type": "code",
   "execution_count": 20,
   "metadata": {},
   "outputs": [
    {
     "name": "stdout",
     "output_type": "stream",
     "text": [
      "Create sweep with ID: pqih70l9\n",
      "Sweep URL: https://wandb.ai/uos_ml/echovpr_oxford_hl/sweeps/pqih70l9\n",
      "Configures sweep: pqih70l9\n"
     ]
    }
   ],
   "source": [
    "sweep_id = wandb.sweep(sweep_config, project=\"echovpr_oxford_hl\", entity=\"uos_ml\")\n",
    "print(f'Configures sweep: {sweep_id}')"
   ]
  }
 ],
 "metadata": {
  "interpreter": {
   "hash": "1c3ece5540a0c2ffc2d29a240d66f75bd95c704c907bef09022a1d843f0a91ef"
  },
  "kernelspec": {
   "display_name": "Python 3.8.12 64-bit ('patchnetvlad': conda)",
   "language": "python",
   "name": "python3"
  },
  "language_info": {
   "codemirror_mode": {
    "name": "ipython",
    "version": 3
   },
   "file_extension": ".py",
   "mimetype": "text/x-python",
   "name": "python",
   "nbconvert_exporter": "python",
   "pygments_lexer": "ipython3",
   "version": "3.8.12"
  },
  "orig_nbformat": 4
 },
 "nbformat": 4,
 "nbformat_minor": 2
}
