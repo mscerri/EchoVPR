{
 "cells": [
  {
   "cell_type": "code",
   "execution_count": null,
   "metadata": {},
   "outputs": [],
   "source": [
    "%cd ..\\src"
   ]
  },
  {
   "cell_type": "code",
   "execution_count": null,
   "metadata": {},
   "outputs": [],
   "source": [
    "import torch\n",
    "from torch.utils.data import DataLoader\n",
    "\n",
    "from configs.utils import get_config\n",
    "from echovpr.datasets.image_ds import ImageDataset\n",
    "from echovpr.datasets.utils import save_np_file, load_np_file\n",
    "from echovpr.models.netvlad_encoder import NetVLADEncorder\n",
    "\n",
    "import numpy as np"
   ]
  },
  {
   "cell_type": "code",
   "execution_count": null,
   "metadata": {},
   "outputs": [],
   "source": [
    "config = get_config(\"configs\\\\train_mlp_nordland_full.ini\", log=False)"
   ]
  },
  {
   "cell_type": "code",
   "execution_count": null,
   "metadata": {},
   "outputs": [],
   "source": [
    "summer_ds = load_np_file(config['dataset_nordland_summer_dataset_file_path'])\n",
    "winter_ds = load_np_file(config['dataset_nordland_winter_dataset_file_path'])\n",
    "spring_ds = load_np_file(config['dataset_nordland_spring_dataset_file_path'])\n",
    "fall_ds = load_np_file(config['dataset_nordland_fall_dataset_file_path'])"
   ]
  },
  {
   "cell_type": "code",
   "execution_count": null,
   "metadata": {},
   "outputs": [],
   "source": [
    "summer_dataset = ImageDataset(summer_ds['image_names'], config['dataset_root_dir'], config)\n",
    "summer_dataLoader = DataLoader(summer_dataset, batch_size=int(config['dataset_netvlad_processing_batchsize']), num_workers=int(config['dataset_netvlad_processing_threads']), shuffle=False)\n",
    "\n",
    "winter_dataset = ImageDataset(winter_ds['image_names'], config['dataset_root_dir'], config)\n",
    "winter_dataLoader = DataLoader(winter_dataset, batch_size=int(config['dataset_netvlad_processing_batchsize']), num_workers=int(config['dataset_netvlad_processing_threads']), shuffle=False)\n",
    "\n",
    "spring_dataset = ImageDataset(spring_ds['image_names'], config['dataset_root_dir'], config)\n",
    "spring_dataLoader = DataLoader(spring_dataset, batch_size=int(config['dataset_netvlad_processing_batchsize']), num_workers=int(config['dataset_netvlad_processing_threads']), shuffle=False)\n",
    "\n",
    "fall_dataset = ImageDataset(fall_ds['image_names'], config['dataset_root_dir'], config)\n",
    "fall_dataLoader = DataLoader(fall_dataset, batch_size=int(config['dataset_netvlad_processing_batchsize']), num_workers=int(config['dataset_netvlad_processing_threads']), shuffle=False)"
   ]
  },
  {
   "cell_type": "code",
   "execution_count": null,
   "metadata": {},
   "outputs": [],
   "source": [
    "encoder = NetVLADEncorder(config).eval().cuda()"
   ]
  },
  {
   "cell_type": "code",
   "execution_count": null,
   "metadata": {},
   "outputs": [],
   "source": [
    "def process(model, dataLoader):\n",
    "    x_processed_list = []\n",
    "\n",
    "    for x in dataLoader:\n",
    "        x = x.cuda()\n",
    "        x_processed = model(x)\n",
    "\n",
    "        x_processed_list.append(x_processed.cpu())\n",
    "\n",
    "    return torch.vstack(x_processed_list)"
   ]
  },
  {
   "cell_type": "code",
   "execution_count": null,
   "metadata": {},
   "outputs": [],
   "source": [
    "nordland_summer_repr = process(encoder, summer_dataLoader).numpy()\n",
    "save_np_file(nordland_summer_repr, config['dataset_nordland_summer_netvlad_repr_file_path'])\n",
    "\n",
    "nordland_winter_repr = process(encoder, winter_dataLoader).numpy()\n",
    "save_np_file(nordland_winter_repr, config['dataset_nordland_winter_netvlad_repr_file_path'])\n",
    "\n",
    "nordland_summer_repr = process(encoder, spring_dataLoader).numpy()\n",
    "save_np_file(nordland_summer_repr, config['dataset_nordland_spring_netvlad_repr_file_path'])\n",
    "\n",
    "nordland_winter_repr = process(encoder, fall_dataLoader).numpy()\n",
    "save_np_file(nordland_winter_repr, config['dataset_nordland_fall_netvlad_repr_file_path'])"
   ]
  }
 ],
 "metadata": {
  "interpreter": {
   "hash": "1c3ece5540a0c2ffc2d29a240d66f75bd95c704c907bef09022a1d843f0a91ef"
  },
  "kernelspec": {
   "display_name": "Python 3.8.12 64-bit ('patchnetvlad': conda)",
   "language": "python",
   "name": "python3"
  },
  "language_info": {
   "codemirror_mode": {
    "name": "ipython",
    "version": 3
   },
   "file_extension": ".py",
   "mimetype": "text/x-python",
   "name": "python",
   "nbconvert_exporter": "python",
   "pygments_lexer": "ipython3",
   "version": "3.8.12"
  },
  "orig_nbformat": 4
 },
 "nbformat": 4,
 "nbformat_minor": 2
}
